{
 "cells": [
  {
   "cell_type": "markdown",
   "metadata": {},
   "source": [
    "# Metropolis Hastings | Gibbs Sampling - T2"
   ]
  },
  {
   "cell_type": "markdown",
   "metadata": {},
   "source": [
    "### Librerías"
   ]
  },
  {
   "cell_type": "code",
   "execution_count": 1,
   "metadata": {},
   "outputs": [],
   "source": [
    "import numpy as np\n",
    "import matplotlib.pyplot as plt\n",
    "import pandas as pd"
   ]
  },
  {
   "cell_type": "code",
   "execution_count": 17,
   "metadata": {},
   "outputs": [
    {
     "data": {
      "text/html": [
       "<div>\n",
       "<style scoped>\n",
       "    .dataframe tbody tr th:only-of-type {\n",
       "        vertical-align: middle;\n",
       "    }\n",
       "\n",
       "    .dataframe tbody tr th {\n",
       "        vertical-align: top;\n",
       "    }\n",
       "\n",
       "    .dataframe thead th {\n",
       "        text-align: right;\n",
       "    }\n",
       "</style>\n",
       "<table border=\"1\" class=\"dataframe\">\n",
       "  <thead>\n",
       "    <tr style=\"text-align: right;\">\n",
       "      <th></th>\n",
       "      <th>a0</th>\n",
       "      <th>a1</th>\n",
       "      <th>b0</th>\n",
       "      <th>b1</th>\n",
       "      <th>f</th>\n",
       "      <th>id</th>\n",
       "    </tr>\n",
       "  </thead>\n",
       "  <tbody>\n",
       "    <tr>\n",
       "      <th>0</th>\n",
       "      <td>0.029558</td>\n",
       "      <td>-0.016327</td>\n",
       "      <td>-0.104560</td>\n",
       "      <td>0.016127</td>\n",
       "      <td>3.927357</td>\n",
       "      <td>OGLE-GD-ECL-00001</td>\n",
       "    </tr>\n",
       "    <tr>\n",
       "      <th>1</th>\n",
       "      <td>0.061099</td>\n",
       "      <td>-0.055906</td>\n",
       "      <td>-0.038069</td>\n",
       "      <td>-0.005667</td>\n",
       "      <td>1.867562</td>\n",
       "      <td>OGLE-GD-ECL-00002</td>\n",
       "    </tr>\n",
       "    <tr>\n",
       "      <th>2</th>\n",
       "      <td>-0.014827</td>\n",
       "      <td>0.003208</td>\n",
       "      <td>0.082643</td>\n",
       "      <td>0.019817</td>\n",
       "      <td>0.358974</td>\n",
       "      <td>OGLE-GD-ECL-00003</td>\n",
       "    </tr>\n",
       "    <tr>\n",
       "      <th>3</th>\n",
       "      <td>0.167007</td>\n",
       "      <td>0.009713</td>\n",
       "      <td>0.023745</td>\n",
       "      <td>-0.018727</td>\n",
       "      <td>6.306853</td>\n",
       "      <td>OGLE-GD-ECL-00004</td>\n",
       "    </tr>\n",
       "    <tr>\n",
       "      <th>4</th>\n",
       "      <td>0.059108</td>\n",
       "      <td>-0.015537</td>\n",
       "      <td>-0.096507</td>\n",
       "      <td>0.003251</td>\n",
       "      <td>4.637037</td>\n",
       "      <td>OGLE-GD-ECL-00005</td>\n",
       "    </tr>\n",
       "  </tbody>\n",
       "</table>\n",
       "</div>"
      ],
      "text/plain": [
       "         a0        a1        b0        b1         f                 id\n",
       "0  0.029558 -0.016327 -0.104560  0.016127  3.927357  OGLE-GD-ECL-00001\n",
       "1  0.061099 -0.055906 -0.038069 -0.005667  1.867562  OGLE-GD-ECL-00002\n",
       "2 -0.014827  0.003208  0.082643  0.019817  0.358974  OGLE-GD-ECL-00003\n",
       "3  0.167007  0.009713  0.023745 -0.018727  6.306853  OGLE-GD-ECL-00004\n",
       "4  0.059108 -0.015537 -0.096507  0.003251  4.637037  OGLE-GD-ECL-00005"
      ]
     },
     "execution_count": 17,
     "metadata": {},
     "output_type": "execute_result"
    }
   ],
   "source": [
    "df = pd.read_csv('Datos T2/ecl.dat', sep=' ')\n",
    "df.head()"
   ]
  },
  {
   "cell_type": "code",
   "execution_count": 79,
   "metadata": {},
   "outputs": [
    {
     "data": {
      "text/plain": [
       "(43929,)"
      ]
     },
     "execution_count": 79,
     "metadata": {},
     "output_type": "execute_result"
    }
   ],
   "source": [
    "X = np.array(df[['a0', 'a1', 'b0', 'b1', 'f']])\n",
    "y = np.array(df['id'])\n",
    "y.shape"
   ]
  },
  {
   "cell_type": "code",
   "execution_count": 69,
   "metadata": {},
   "outputs": [],
   "source": [
    "data = np.load('Datos T2/Params_ecl.npz')\n",
    "lst = data.files\n",
    "covs_0 = data['covs_0']\n",
    "weights_0 = data['weights_0']\n",
    "covs_1 = data['covs_1']\n",
    "weights_1 = data['weights_1']"
   ]
  },
  {
   "cell_type": "code",
   "execution_count": 72,
   "metadata": {},
   "outputs": [
    {
     "data": {
      "text/plain": [
       "((2, 3, 3), (2,))"
      ]
     },
     "execution_count": 72,
     "metadata": {},
     "output_type": "execute_result"
    }
   ],
   "source": [
    "covs_0.shape, weights_0.shape"
   ]
  },
  {
   "cell_type": "code",
   "execution_count": 75,
   "metadata": {},
   "outputs": [
    {
     "data": {
      "text/plain": [
       "array([[ 2.78676236e-03,  9.26504739e-06, -2.44695139e-04],\n",
       "       [ 9.26504739e-06,  2.75245753e-03, -2.38552171e-04],\n",
       "       [-2.44695139e-04, -2.38552171e-04,  2.94306851e-01]])"
      ]
     },
     "execution_count": 75,
     "metadata": {},
     "output_type": "execute_result"
    }
   ],
   "source": [
    "covs_0[0]"
   ]
  },
  {
   "cell_type": "markdown",
   "metadata": {},
   "source": [
    "## Metropolis Hastings"
   ]
  },
  {
   "cell_type": "code",
   "execution_count": 76,
   "metadata": {},
   "outputs": [],
   "source": [
    "from scipy.stats import multivariate_normal"
   ]
  },
  {
   "cell_type": "markdown",
   "metadata": {},
   "source": [
    "La idea es hacer para cada gaussiana que luego se mezcla, un metropolis-hasting para sus medias."
   ]
  },
  {
   "cell_type": "markdown",
   "metadata": {},
   "source": [
    "Antes de eso para evitar sobrecargar en el cálculo de la probabilidad del modelo dados los datos (pseudo _likelihood_) se filtran aleatoriamente los datos para utilizar una parte de ellos."
   ]
  },
  {
   "cell_type": "code",
   "execution_count": 238,
   "metadata": {},
   "outputs": [],
   "source": [
    "X_for_ll = X[np.random.randint(len(X), size=500)]"
   ]
  },
  {
   "cell_type": "markdown",
   "metadata": {},
   "source": [
    "Una vez obtenido lo anterior se define P como la función que simula $P^*$. Se hace el cálculo con el supuesto de que no es necesario tener los datos de ambas gaussianas a mezclar sino que se puede hacer con cada gaussiana por separado. Lo anterior simplifica los cálculos y permite hacerlos más rápidamente. \n",
    "\n",
    "Por temas de _underflow_ se realiza un cálculo con la media de las probabilidades en vez del producto de ellas. Si bien esto no es válido, al ser tantos datos y tan bajas las probabilidades terminaba llegando a cero siempre. Puede ser \"pseudo válido\" si se interpreta como el promedio de las probabilidades de que cada dato provenga de un modelo con estas medias."
   ]
  },
  {
   "cell_type": "code",
   "execution_count": 376,
   "metadata": {},
   "outputs": [],
   "source": [
    "def P(means, covs, first_mixture=True):\n",
    "    norm = multivariate_normal(means, covs)\n",
    "    if first_mixture:\n",
    "        data = X_for_ll[:,[0, 2, 4]]\n",
    "    else:\n",
    "        data = X_for_ll[:,[1, 3, 4]]\n",
    "    return norm.pdf(data).mean()"
   ]
  },
  {
   "cell_type": "code",
   "execution_count": 377,
   "metadata": {},
   "outputs": [],
   "source": [
    "def mh(covs, N, first_mixture=True):\n",
    "    mus = [[0, 0, 2]]\n",
    "    \n",
    "    for _ in range(N):\n",
    "        last_mus = mus[-1]\n",
    "\n",
    "        Q_last = multivariate_normal(last_mus, covs)\n",
    "        proposal = Q_last.rvs()\n",
    "        Q_proposed = multivariate_normal(proposal, covs)\n",
    "\n",
    "        Q_of_last_given_prop = Q_proposed.pdf(last_mus)\n",
    "        Q_of_prop_given_last = Q_last.pdf(proposal)\n",
    "\n",
    "        P_prop = P(proposal, covs, first_mixture=first_mixture)\n",
    "        P_last = P(last_mus, covs, first_mixture=first_mixture)\n",
    "        alpha = min(((Q_of_last_given_prop * P_prop) / (Q_of_prop_given_last * P_last)), 1)\n",
    "\n",
    "\n",
    "        u = np.random.uniform(0, 1)\n",
    "        if u < alpha:\n",
    "            mus.append(proposal)\n",
    "    return mus[1:]\n",
    "            \n",
    "def clean(array, burning, window):\n",
    "    return np.array(array[burning::window])"
   ]
  },
  {
   "cell_type": "code",
   "execution_count": 393,
   "metadata": {},
   "outputs": [],
   "source": [
    "# first gaussian of first mixture\n",
    "mus_a = mh(covs_0[0], 10000)"
   ]
  },
  {
   "cell_type": "code",
   "execution_count": 394,
   "metadata": {},
   "outputs": [],
   "source": [
    "# second gaussian of first mixture\n",
    "mus_b = mh(covs_0[1], 10000)"
   ]
  },
  {
   "cell_type": "code",
   "execution_count": 425,
   "metadata": {},
   "outputs": [
    {
     "data": {
      "text/plain": [
       "(6450, 5290)"
      ]
     },
     "execution_count": 425,
     "metadata": {},
     "output_type": "execute_result"
    }
   ],
   "source": [
    "len(mus_a), len(mus_b)"
   ]
  },
  {
   "cell_type": "code",
   "execution_count": 396,
   "metadata": {},
   "outputs": [
    {
     "data": {
      "text/plain": [
       "(6450, 595, 5290, 479)"
      ]
     },
     "execution_count": 396,
     "metadata": {},
     "output_type": "execute_result"
    }
   ],
   "source": [
    "burning = 500\n",
    "window = 10\n",
    "clean_mus_a = clean(mus_a, burning, window)\n",
    "clean_mus_b = clean(mus_b, burning, window)\n",
    "len(mus_a), len(clean_mus_a), len(mus_b), len(clean_mus_b)"
   ]
  },
  {
   "cell_type": "code",
   "execution_count": 400,
   "metadata": {},
   "outputs": [
    {
     "data": {
      "image/png": "[encoded data removed]",
      "text/plain": [
       "<Figure size 432x288 with 1 Axes>"
      ]
     },
     "metadata": {
      "needs_background": "light"
     },
     "output_type": "display_data"
    },
    {
     "data": {
      "image/png": "[encoded data removed]",
      "text/plain": [
       "<Figure size 432x288 with 1 Axes>"
      ]
     },
     "metadata": {
      "needs_background": "light"
     },
     "output_type": "display_data"
    },
    {
     "data": {
      "image/png": "[encoded data removed]",
      "text/plain": [
       "<Figure size 432x288 with 1 Axes>"
      ]
     },
     "metadata": {
      "needs_background": "light"
     },
     "output_type": "display_data"
    }
   ],
   "source": [
    "plt.plot(np.array(mus_a)[:, 0])\n",
    "plt.show()\n",
    "plt.plot(np.array(mus_a)[:, 1])\n",
    "plt.show()\n",
    "plt.plot(np.array(mus_a)[:, 2])\n",
    "plt.show()"
   ]
  },
  {
   "cell_type": "markdown",
   "metadata": {},
   "source": [
    "En los 3 gráficos anteriores se aprecia que si bien no hay una convergencia para los valores de las medias de la primera gaussiana de la primera mezcla, no se disparan demasiado lejos del rango esperado, y por ende luego, al promediarlos se puede teorizar que serán valores medianamente adecuados"
   ]
  },
  {
   "cell_type": "code",
   "execution_count": 401,
   "metadata": {},
   "outputs": [],
   "source": [
    "candidate_mus_a = clean_mus_a.mean(axis=0)\n",
    "candidate_mus_b = clean_mus_b.mean(axis=0)"
   ]
  },
  {
   "cell_type": "code",
   "execution_count": 407,
   "metadata": {},
   "outputs": [
    {
     "data": {
      "text/plain": [
       "(array([0.01642431, 0.00899219, 2.29012557]),\n",
       " array([2.01292252e-04, 1.71653872e-03, 2.17708554e+00]))"
      ]
     },
     "execution_count": 407,
     "metadata": {},
     "output_type": "execute_result"
    }
   ],
   "source": [
    "candidate_mus_a, candidate_mus_b"
   ]
  },
  {
   "cell_type": "markdown",
   "metadata": {},
   "source": [
    "Con los datos anteriores se puede proceder a armar la primera mezcla de gaussianas"
   ]
  },
  {
   "cell_type": "code",
   "execution_count": 408,
   "metadata": {},
   "outputs": [],
   "source": [
    "norm_a = multivariate_normal(candidate_mus_a, covs_0[0])\n",
    "norm_b = multivariate_normal(candidate_mus_b, covs_0[1])\n",
    "n_pdf = lambda x: weights_0[0] * norm_a.pdf(x) + weights_0[1] * norm_b.pdf(x)"
   ]
  },
  {
   "cell_type": "code",
   "execution_count": 423,
   "metadata": {},
   "outputs": [
    {
     "data": {
      "text/plain": [
       "0.3668709142362286"
      ]
     },
     "execution_count": 423,
     "metadata": {},
     "output_type": "execute_result"
    }
   ],
   "source": [
    "n_pdf(X[0, [0, 2, 4]])"
   ]
  },
  {
   "cell_type": "markdown",
   "metadata": {},
   "source": [
    "Como se aprecia, una vez que se calcula la probabilidad del primer dato (a0, b0 y f de la primera fila), hace sentido en cuanto a que es alta siendo probable que dicho dato fuera generado por un modelo con dichas medias."
   ]
  },
  {
   "cell_type": "markdown",
   "metadata": {},
   "source": [
    "Ahora repitiendo el procedimiento para la segunda mezcla de gaussianas:"
   ]
  },
  {
   "cell_type": "code",
   "execution_count": 426,
   "metadata": {},
   "outputs": [],
   "source": [
    "# first gaussian of second mixture\n",
    "mus1_a = mh(covs_1[0], 10000)\n",
    "# second gaussian of second mixture\n",
    "mus1_b = mh(covs_1[1], 10000)"
   ]
  },
  {
   "cell_type": "code",
   "execution_count": 427,
   "metadata": {},
   "outputs": [
    {
     "data": {
      "text/plain": [
       "(6224, 6553)"
      ]
     },
     "execution_count": 427,
     "metadata": {},
     "output_type": "execute_result"
    }
   ],
   "source": [
    "len(mus1_a), len(mus1_b)"
   ]
  },
  {
   "cell_type": "code",
   "execution_count": 428,
   "metadata": {
    "scrolled": true
   },
   "outputs": [
    {
     "data": {
      "text/plain": [
       "(6224, 573, 6553, 606)"
      ]
     },
     "execution_count": 428,
     "metadata": {},
     "output_type": "execute_result"
    }
   ],
   "source": [
    "burning = 500\n",
    "window = 10\n",
    "clean_mus1_a = clean(mus1_a, burning, window)\n",
    "clean_mus1_b = clean(mus1_b, burning, window)\n",
    "len(mus1_a), len(clean_mus1_a), len(mus1_b), len(clean_mus1_b)"
   ]
  },
  {
   "cell_type": "code",
   "execution_count": 429,
   "metadata": {},
   "outputs": [],
   "source": [
    "candidate_mus1_a = clean_mus1_a.mean(axis=0)\n",
    "candidate_mus1_b = clean_mus1_b.mean(axis=0)"
   ]
  },
  {
   "cell_type": "code",
   "execution_count": 430,
   "metadata": {},
   "outputs": [
    {
     "data": {
      "text/plain": [
       "(array([0.01204229, 0.00451727, 1.94462998]),\n",
       " array([ 0.00584972, -0.00808516,  1.61940652]))"
      ]
     },
     "execution_count": 430,
     "metadata": {},
     "output_type": "execute_result"
    }
   ],
   "source": [
    "candidate_mus1_a, candidate_mus1_b"
   ]
  },
  {
   "cell_type": "code",
   "execution_count": 431,
   "metadata": {},
   "outputs": [],
   "source": [
    "norm1_a = multivariate_normal(candidate_mus1_a, covs_0[0])\n",
    "norm1_b = multivariate_normal(candidate_mus1_b, covs_0[1])\n",
    "n1_pdf = lambda x: weights_1[0] * norm1_a.pdf(x) + weights_1[1] * norm1_b.pdf(x)"
   ]
  },
  {
   "cell_type": "code",
   "execution_count": 435,
   "metadata": {},
   "outputs": [
    {
     "data": {
      "text/plain": [
       "0.580169569153548"
      ]
     },
     "execution_count": 435,
     "metadata": {},
     "output_type": "execute_result"
    }
   ],
   "source": [
    "n1_pdf(X[-1, [1, 3, 4]])"
   ]
  },
  {
   "cell_type": "markdown",
   "metadata": {},
   "source": [
    "Tenemos entonces candidatos para nuestras gaussianas:"
   ]
  },
  {
   "cell_type": "code",
   "execution_count": 445,
   "metadata": {},
   "outputs": [],
   "source": [
    "mus_0 = np.array((candidate_mus_a, candidate_mus_b))\n",
    "mus_1 = np.array((candidate_mus1_a, candidate_mus1_b))"
   ]
  },
  {
   "cell_type": "code",
   "execution_count": 446,
   "metadata": {},
   "outputs": [
    {
     "data": {
      "text/plain": [
       "(array([[1.64243094e-02, 8.99218883e-03, 2.29012557e+00],\n",
       "        [2.01292252e-04, 1.71653872e-03, 2.17708554e+00]]),\n",
       " array([[ 0.01204229,  0.00451727,  1.94462998],\n",
       "        [ 0.00584972, -0.00808516,  1.61940652]]))"
      ]
     },
     "execution_count": 446,
     "metadata": {},
     "output_type": "execute_result"
    }
   ],
   "source": [
    "mus_0, mus_1"
   ]
  },
  {
   "cell_type": "markdown",
   "metadata": {},
   "source": [
    "## Gibbs"
   ]
  },
  {
   "cell_type": "markdown",
   "metadata": {},
   "source": [
    "Para esto hay que obtener expresiones para las condicionales de las mezclas de gaussianas. La intención es poder obtener expresiones para $P(a_i \\mid b_i, f)$"
   ]
  },
  {
   "cell_type": "markdown",
   "metadata": {},
   "source": [
    "Este problema se abordará marginalizando las normales multivariadas para cada mezcla y luego realizar la mezcla, es decir, se asume que si se marginaliza cada normal multivariada por separado y luego se hace la mezcla, se preservan las propiedades, equivalente a marginalizar la mezcla directamente."
   ]
  },
  {
   "cell_type": "markdown",
   "metadata": {},
   "source": [
    "Con lo anterior, para cada multivariada se requiere obtener expresiones para $P(a_i \\mid b_i, f)$, $P(b_i \\mid a_i, f)$ y $P(f \\mid a_i, b_i)$. Con $i$ el índice de la mezcla, 0 o 1."
   ]
  },
  {
   "cell_type": "markdown",
   "metadata": {},
   "source": [
    "Un esquema general para el _sampling_ es el siguiente, donde posteriormente se definiran las expresiones condicionadas."
   ]
  },
  {
   "cell_type": "code",
   "execution_count": 588,
   "metadata": {},
   "outputs": [],
   "source": [
    "def gibbs(a_given_bf, b_given_af, f_given_ab, N, x0):\n",
    "    samples_a = np.zeros(N + 1)\n",
    "    samples_b = np.zeros(N + 1)\n",
    "    samples_f = np.zeros(N + 1)\n",
    "    samples_a[0] = x0[0]\n",
    "    samples_f[0] = f_given_ab(x0[0], x0[1])\n",
    "    samples_b[0] = b_given_af(x0[0], samples_f[0])\n",
    "    for i in range(1, N + 1):\n",
    "        samples_a[i] = a_given_bf(samples_b[i - 1], samples_f[i - 1])\n",
    "        samples_b[i] = b_given_af(samples_a[i - 1], samples_f[i - 1])\n",
    "        samples_f[i] = f_given_ab(samples_a[i - 1], samples_b[i - 1])\n",
    "    return samples_a, samples_b, samples_f"
   ]
  },
  {
   "cell_type": "code",
   "execution_count": 523,
   "metadata": {},
   "outputs": [],
   "source": [
    "from scipy.stats import norm"
   ]
  },
  {
   "cell_type": "markdown",
   "metadata": {},
   "source": [
    "La intención es ser capaz de condicionar para cada caso, como son normales multivariadas existe una forma analítica de condicionar, y para eso el condicionamiento considera operar sobre la matriz de covarianza particionándola de modo que se pueda operar con ella en 4 submatrices, una conteniendo el parámetro no condicionado, otra los condicionados y otras dos únicamente covarianzas (son iguales por la simetría).\n",
    "\n",
    "Lo anterior a partir de lo mencionado [aquí](https://en.wikipedia.org/wiki/Multivariate_normal_distribution#Conditional_distributions), [aquí](https://math.stackexchange.com/questions/506129/multivariate-normal-distribution-conditional-on-two-random-variables) y [aquí](https://peterroelants.github.io/posts/multivariate-normal-primer/), más lo visto en clases.\n",
    "\n",
    "El cálculo de la media es más complejo y se explica en esos documentos, pero el de la covarianza es así: lo que se hace es tomar la matriz de covarianzas, invertirla, eliminar las filas y columnas que hacen referencia a los parámetros condicionados y volver a invertir la matriz."
   ]
  },
  {
   "cell_type": "markdown",
   "metadata": {},
   "source": [
    "En un primer caso se hará para $a_i$ dado los otros 2 parámetros, pero el procedimiento es análogo para $b_i$ y $f$."
   ]
  },
  {
   "cell_type": "code",
   "execution_count": 531,
   "metadata": {},
   "outputs": [],
   "source": [
    "def a_given_bf(b, f, mus, covs):\n",
    "    ma = mus[0][0] \n",
    "    mb = mus[0][1]\n",
    "    mf = mus[0][2]\n",
    "\n",
    "    c11 = covs[0][0:1, 0:1]\n",
    "    c12 = covs[0][0:1, 1:3]\n",
    "    c22 = covs[0][1:3, 1:3]\n",
    "    mu_a = ma + c12.dot(np.linalg.inv(c22)).dot(([b, f] - np.array([mb, mf])).T).T\n",
    "    std_a = np.linalg.inv(np.linalg.inv(covs[0])[:1,:1])\n",
    "    \n",
    "    ma = mus[1][0] \n",
    "    mb = mus[1][1]\n",
    "    mf = mus[1][2]\n",
    "    \n",
    "    c11 = covs[1][0:1, 0:1]\n",
    "    c12 = covs[1][0:1, 1:3]\n",
    "    c22 = covs[1][1:3, 1:3]\n",
    "    mu_b = ma + c12.dot(np.linalg.inv(c22)).dot(([b, f] - np.array([mb, mf])).T).T\n",
    "    std_b = np.linalg.inv(np.linalg.inv(covs[1])[:1,:1])\n",
    "    \n",
    "    norm_a = norm(mu_a, std_a).rvs()\n",
    "    norm_b = norm(mu_b, std_b).rvs()\n",
    "    \n",
    "    return np.random.choice([norm_a, norm_b], p=weights_0)"
   ]
  },
  {
   "cell_type": "markdown",
   "metadata": {},
   "source": [
    "Notar que al final se elige aleatoriamente entre las dos normales. Lo anterior porque si bien para obtener la PDF de una mezcla de normales es necesario ponderar por los pesos, para muestrar a partir de una lo que se hace es hacer un _weighted_random_ entre muestras de cada normal previo a mezclar, es decir, elegir aleatoriamente con pesos. Siendo justamente dichos pesos, los pesos de las multivariadas que se usan para la mezcla."
   ]
  },
  {
   "cell_type": "code",
   "execution_count": 533,
   "metadata": {},
   "outputs": [
    {
     "data": {
      "text/plain": [
       "0.01549636360024905"
      ]
     },
     "execution_count": 533,
     "metadata": {},
     "output_type": "execute_result"
    }
   ],
   "source": [
    "a_given_bf(0, 1.88, mus_0, covs_0)"
   ]
  },
  {
   "cell_type": "code",
   "execution_count": 534,
   "metadata": {},
   "outputs": [],
   "source": [
    "a0_given_b0f = lambda b, f: a_given_bf(b, f, mus_0, covs_0)\n",
    "a1_given_b1f = lambda b, f: a_given_bf(b, f, mus_1, covs_1)"
   ]
  },
  {
   "cell_type": "markdown",
   "metadata": {},
   "source": [
    "Análogamente para $b_i$ y para $f$:"
   ]
  },
  {
   "cell_type": "code",
   "execution_count": 563,
   "metadata": {},
   "outputs": [],
   "source": [
    "def b_given_af(a, f, mus, covs):\n",
    "    ma = mus[0][0] \n",
    "    mb = mus[0][1]\n",
    "    mf = mus[0][2]\n",
    "\n",
    "    c11 = covs[0][1:2, 1:2]\n",
    "    c12 = covs[0][[0, 2], [1, 1]]\n",
    "    c22 = covs[0][0:3:2, 0:3:2]\n",
    "    mu_a = mb + c12.dot(np.linalg.inv(c22)).dot(([a, f] - np.array([ma, mf])).T).T\n",
    "    std_a = np.linalg.inv(np.linalg.inv(covs[0])[1:2,1:2])\n",
    "    \n",
    "    ma = mus[1][0] \n",
    "    mb = mus[1][1]\n",
    "    mf = mus[1][2]\n",
    "    \n",
    "    c11 = covs[1][1:2, 1:2]\n",
    "    c12 = covs[1][[0, 2], [1, 1]]\n",
    "    c22 = covs[1][0:3:2, 0:3:2]\n",
    "    mu_b = mb + c12.dot(np.linalg.inv(c22)).dot(([a, f] - np.array([ma, mf])).T).T\n",
    "    std_b = np.linalg.inv(np.linalg.inv(covs[1])[1:2,1:2])\n",
    "    \n",
    "    norm_a = norm(mu_a, std_a).rvs()\n",
    "    norm_b = norm(mu_b, std_b).rvs()\n",
    "    \n",
    "    return np.random.choice([norm_a, norm_b], p=weights_0)"
   ]
  },
  {
   "cell_type": "code",
   "execution_count": 564,
   "metadata": {},
   "outputs": [
    {
     "data": {
      "text/plain": [
       "0.009876254501849441"
      ]
     },
     "execution_count": 564,
     "metadata": {},
     "output_type": "execute_result"
    }
   ],
   "source": [
    "b_given_af(0, 1.88, mus_0, covs_0)"
   ]
  },
  {
   "cell_type": "code",
   "execution_count": 565,
   "metadata": {},
   "outputs": [],
   "source": [
    "b0_given_a0f = lambda a, f: b_given_af(a, f, mus_0, covs_0)\n",
    "b1_given_a1f = lambda a, f: b_given_af(a, f, mus_1, covs_1)"
   ]
  },
  {
   "cell_type": "code",
   "execution_count": 577,
   "metadata": {},
   "outputs": [],
   "source": [
    "def f_given_ab(a, b, mus, covs):\n",
    "    ma = mus[0][0] \n",
    "    mb = mus[0][1]\n",
    "    mf = mus[0][2]\n",
    "\n",
    "    c11 = covs[0][2:3, 2:3]\n",
    "    c12 = covs[0][2:3, 0:2]\n",
    "    c22 = covs[0][0:2, 0:2]\n",
    "    mu_a = mf + c12.dot(np.linalg.inv(c22)).dot(([a, b] - np.array([ma, mb])).T).T\n",
    "    std_a = np.linalg.inv(np.linalg.inv(covs[0])[2:3,2:3])\n",
    "    \n",
    "    ma = mus[1][0] \n",
    "    mb = mus[1][1]\n",
    "    mf = mus[1][2]\n",
    "    \n",
    "    c11 = covs[1][0:1, 0:1]\n",
    "    c12 = covs[1][2:3, 0:2]\n",
    "    c22 = covs[1][0:2, 0:2]\n",
    "    mu_b = mf + c12.dot(np.linalg.inv(c22)).dot(([a, b] - np.array([ma, mb])).T).T\n",
    "    std_b = np.linalg.inv(np.linalg.inv(covs[1])[2:3,2:3])\n",
    "    \n",
    "    norm_a = norm(mu_a, std_a).rvs()\n",
    "    norm_b = norm(mu_b, std_b).rvs()\n",
    "    \n",
    "    return np.random.choice([norm_a, norm_b], p=weights_0)"
   ]
  },
  {
   "cell_type": "code",
   "execution_count": 582,
   "metadata": {},
   "outputs": [
    {
     "data": {
      "text/plain": [
       "2.112850438620913"
      ]
     },
     "execution_count": 582,
     "metadata": {},
     "output_type": "execute_result"
    }
   ],
   "source": [
    "f_given_ab(0, 0.01, mus_0, covs_0)"
   ]
  },
  {
   "cell_type": "code",
   "execution_count": 613,
   "metadata": {},
   "outputs": [],
   "source": [
    "f_given_a0b0 = lambda a, b: f_given_ab(a, b, mus_0, covs_0)\n",
    "f_given_a1b1 = lambda a, b: f_given_ab(a, b, mus_1, covs_1)"
   ]
  },
  {
   "cell_type": "markdown",
   "metadata": {},
   "source": [
    "Una vez obtenidas todas las expresiones para las condicionales de cada parámetro respecto a los restantes, se puede proceder"
   ]
  },
  {
   "cell_type": "markdown",
   "metadata": {},
   "source": [
    "Como punto de partida para la primera mezcla de gaussianas multivariadas tomaré x0 y x1 para la segunda"
   ]
  },
  {
   "cell_type": "code",
   "execution_count": 586,
   "metadata": {},
   "outputs": [],
   "source": [
    "x0 = X[np.random.randint(len(X))][[0, 2]]  # valores de a0 y b0\n",
    "x1 = X[np.random.randint(len(X))][[1, 3]]  # valores de a1 y b1"
   ]
  },
  {
   "cell_type": "code",
   "execution_count": 599,
   "metadata": {},
   "outputs": [],
   "source": [
    "N = 1000\n",
    "all_samples0 = gibbs(a0_given_b0f, b0_given_a0f, f_given_a0b0, N, x0)"
   ]
  },
  {
   "cell_type": "code",
   "execution_count": 614,
   "metadata": {},
   "outputs": [],
   "source": [
    "all_samples1 = gibbs(a1_given_b1f, b1_given_a1f, f_given_a1b1, N, x1)"
   ]
  },
  {
   "cell_type": "code",
   "execution_count": 615,
   "metadata": {},
   "outputs": [],
   "source": [
    "samples_a0, samples_b0, samples_f0 = all_samples0\n",
    "samples_a1, samples_b1, samples_f1 = all_samples1"
   ]
  },
  {
   "cell_type": "code",
   "execution_count": 666,
   "metadata": {},
   "outputs": [],
   "source": [
    "# the x0 is not used\n",
    "samples_a0_ = samples_a0[1:] \n",
    "samples_b0_ = samples_b0[1:]\n",
    "samples_f0_ = samples_f0[:-1]\n",
    "\n",
    "samples_a1_ = samples_a1[1:] \n",
    "samples_b1_ = samples_b1[1:]\n",
    "samples_f1_ = samples_f1[:-1]"
   ]
  },
  {
   "cell_type": "markdown",
   "metadata": {},
   "source": [
    "Realizo un proceso de limpieza similar al de el método anterior"
   ]
  },
  {
   "cell_type": "code",
   "execution_count": 617,
   "metadata": {},
   "outputs": [],
   "source": [
    "burning = 50\n",
    "window = 5\n",
    "clean_samples_a0 = clean(samples_a0_, burning, window)\n",
    "clean_samples_b0 = clean(samples_b0_, burning, window)\n",
    "clean_samples_f0 = clean(samples_f0_, burning, window)\n",
    "\n",
    "clean_samples_a1 = clean(samples_a1_, burning, window)\n",
    "clean_samples_b1 = clean(samples_b1_, burning, window)\n",
    "clean_samples_f1 = clean(samples_f1_, burning, window)"
   ]
  },
  {
   "cell_type": "markdown",
   "metadata": {},
   "source": [
    "Ahora como ya está limpio, puedo proceder a, utilizando lo entregado en el enunciado, graficar la serie"
   ]
  },
  {
   "cell_type": "code",
   "execution_count": 668,
   "metadata": {},
   "outputs": [],
   "source": [
    "x = lambda t, S: np.sum([S[i] * np.sin(2 * np.pi * (i + 1) * S[4] * t) + \n",
    "                         S[2 + i] * np.cos(2 * np.pi * (i + 1) * S[4] * t) for i in range(2)])"
   ]
  },
  {
   "cell_type": "markdown",
   "metadata": {},
   "source": [
    "En adelante utilizo solo el $f$ generado por la primera parte, es decir el de la primera mezcla, pero podría utilizarse indistintamente cualquiera de los dos"
   ]
  },
  {
   "cell_type": "code",
   "execution_count": 669,
   "metadata": {},
   "outputs": [],
   "source": [
    "sampled_data = np.column_stack(\n",
    "    (clean_samples_a0, clean_samples_a1, clean_samples_b0, clean_samples_b1, clean_samples_f0)\n",
    ")"
   ]
  },
  {
   "cell_type": "code",
   "execution_count": 672,
   "metadata": {},
   "outputs": [],
   "source": [
    "serie = sampled_data[np.random.randint(len(sampled_data))]\n",
    "dots = [x(i, serie) for i in range(100)]"
   ]
  },
  {
   "cell_type": "code",
   "execution_count": 676,
   "metadata": {},
   "outputs": [
    {
     "data": {
      "image/png": "[encoded data removed]",
      "text/plain": [
       "<Figure size 432x288 with 1 Axes>"
      ]
     },
     "metadata": {
      "needs_background": "light"
     },
     "output_type": "display_data"
    }
   ],
   "source": [
    "plt.title('Serie random generada')\n",
    "plt.plot(range(100), dots)\n",
    "plt.show()"
   ]
  },
  {
   "cell_type": "code",
   "execution_count": 677,
   "metadata": {},
   "outputs": [],
   "source": [
    "original_serie = X[np.random.randint(len(X))]\n",
    "original_dots = [x(i, original_serie) for i in range(100)]"
   ]
  },
  {
   "cell_type": "code",
   "execution_count": 678,
   "metadata": {},
   "outputs": [
    {
     "data": {
      "image/png": "[encoded data removed]",
      "text/plain": [
       "<Figure size 432x288 with 1 Axes>"
      ]
     },
     "metadata": {
      "needs_background": "light"
     },
     "output_type": "display_data"
    }
   ],
   "source": [
    "plt.plot(range(100), original_dots)\n",
    "plt.title('Serie random original')\n",
    "plt.show()"
   ]
  },
  {
   "cell_type": "markdown",
   "metadata": {},
   "source": [
    "No alcancé a hacer un análisis acabado ni el comentario final, pero creo que tras experimentar profundamente con los métodos en cuestión el pie está dado para hacer el análisis de las frecuencias pedidos. Perdón por no terminar."
   ]
  },
  {
   "cell_type": "code",
   "execution_count": null,
   "metadata": {},
   "outputs": [],
   "source": []
  }
 ],
 "metadata": {
  "kernelspec": {
   "display_name": "Python 3",
   "language": "python",
   "name": "python3"
  },
  "language_info": {
   "codemirror_mode": {
    "name": "ipython",
    "version": 3
   },
   "file_extension": ".py",
   "mimetype": "text/x-python",
   "name": "python",
   "nbconvert_exporter": "python",
   "pygments_lexer": "ipython3",
   "version": "3.7.2"
  }
 },
 "nbformat": 4,
 "nbformat_minor": 2
}
