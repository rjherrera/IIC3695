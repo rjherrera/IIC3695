{
 "cells": [
  {
   "cell_type": "markdown",
   "metadata": {},
   "source": [
    "### Generación de frases con MCMC"
   ]
  },
  {
   "cell_type": "code",
   "execution_count": 11,
   "metadata": {},
   "outputs": [],
   "source": [
    "import numpy as np\n",
    "from collections import defaultdict"
   ]
  },
  {
   "cell_type": "code",
   "execution_count": 15,
   "metadata": {},
   "outputs": [],
   "source": [
    "alphabet = 'abcdefghijklmnñopqrstuvwxyz áéíóú'\n",
    "\n",
    "def clean(phrase):\n",
    "    cleaned_phrase = ''\n",
    "    for i in phrase:\n",
    "        if i in alphabet:\n",
    "            cleaned_phrase += i\n",
    "    return cleaned_phrase\n",
    "\n",
    "with open('AC8/corpus.txt', encoding='ISO 8859-1') as f:\n",
    "    phrases = [clean(i.strip().lower()) for i in f.readlines()]"
   ]
  },
  {
   "cell_type": "markdown",
   "metadata": {},
   "source": [
    "Para hacer más robusto el método puse todas las palabras en minúscula, para que dos ocurrencias de la misma palabra no tengan distintas posibilidades de continuación dependiendo de si estaban en mayúscula o no. Este método simple tiene limitaciones por ejemplo en cuanto a no respetar nombres propios, etc.\n",
    "\n",
    "Lo que se hizo es simplemente permitir únicamente las letras del abecedario y los tildes."
   ]
  },
  {
   "cell_type": "code",
   "execution_count": 40,
   "metadata": {},
   "outputs": [],
   "source": [
    "contexts = defaultdict(list)\n",
    "for phrase in phrases:\n",
    "    words = phrase.split(' ')\n",
    "    for i in range(len(words)):\n",
    "        if i + 1 < len(words):\n",
    "            following = words[i + 1]\n",
    "            if following:  # avoid adding '' as a word\n",
    "                contexts[words[i]].append(following)"
   ]
  },
  {
   "cell_type": "markdown",
   "metadata": {},
   "source": [
    "Genero los contextos aplicando lo sugerido, teniendo cuidado de los bordes. Uso _defaultdict_ para poder realizar _append_ sin tener que pasar por el paso innecesario de tener que inicializar con la lista vacía."
   ]
  },
  {
   "cell_type": "code",
   "execution_count": 41,
   "metadata": {},
   "outputs": [],
   "source": [
    "words = [item for sublist in [i.split(' ') for i in phrases] for item in sublist if item] # flat"
   ]
  },
  {
   "cell_type": "markdown",
   "metadata": {},
   "source": [
    "Genero una lista de todas las palabras posibles para seleccionar la _seed_."
   ]
  },
  {
   "cell_type": "code",
   "execution_count": 35,
   "metadata": {},
   "outputs": [],
   "source": [
    "lengths = np.random.randint(20, 40, size=20)\n",
    "results = []\n",
    "for length in lengths:\n",
    "    seed = np.random.choice(words)\n",
    "    phrase = seed\n",
    "    previous = seed\n",
    "    for i in range(length):\n",
    "        posibilities = contexts[previous]\n",
    "        if not posibilities:\n",
    "            break\n",
    "        chosen = np.random.choice(posibilities)\n",
    "        phrase += f' {chosen}'\n",
    "        previous = chosen\n",
    "    results.append(phrase)"
   ]
  },
  {
   "cell_type": "markdown",
   "metadata": {},
   "source": [
    "Escojo largos aleatorios de frase para generar, y genero aleatoriamente una semilla para cada una, luego obtengo la palabra siguiente con el método propuesto. Tengo cuidado de no intentar elegir una palabra si el contexto de una palabra es vacío (cosa que sucede con las palabras finales de una frase)."
   ]
  },
  {
   "cell_type": "code",
   "execution_count": 42,
   "metadata": {},
   "outputs": [
    {
     "name": "stdout",
     "output_type": "stream",
     "text": [
      "1) problemática y el tiempo mínimo de educación señala el ministerio los países fue una actitud pasiva del sur y sus actividades individuales no se encuentra en marzo de chile colombia paraguay y los créditos o simplemente el\n",
      "\n",
      "2) se tenían que merma la segunda ronda del recinto comercial se utilizaba para el diferencial entre otros durante los us del recinto comercial se puede hablar de barcelona a día sostuvo la población de formación\n",
      "\n",
      "3) adultos y perú tomaron esa determinación de robar fernet cerveza y chile comenzó aportando solo se hace difícil poder estudiar y sembrado número uno del total\n",
      "\n",
      "4) se utilizaba para poder rendir académicamente sumado a nivel país aportó con el porcentaje pero después rafa se encuentra en américa del\n",
      "\n",
      "5) partido fue creado en la salud mental de chile viven una situación lamentable y con preocupación cómo la protesta que si se extendió dicho encuentro por la estabilidad y sus distintos programas de las horas y chile que saldrá\n",
      "\n",
      "6) créditos o privadas en el año pasado su salida definitiva el ministerio de un problema de resultados concretos que los estudiantes acusan una situación lamentable y perú tomaron esa época liderados por copa libertadores este miércoles ante rosario\n",
      "\n",
      "7) domingo pasado su favoritismo ahora garin deberá aguardar hasta que ocurre dentro de carga académica a poner atención sobre la confederación de la ministra cubillos donde reclaman\n",
      "\n",
      "8) cancha principal del total del mineduc queremos una de formación educacional por lo están al tema vemos con las personas están en san luis argentina brasil paraguay y sembrado número\n",
      "\n",
      "9) rafael nadal terminó imponiendo la confederación de acuerdo a ver el procedimiento fueron acusados de la membresía\n",
      "\n",
      "10) el partido que formó parte del ministerio de unasur durante todo ese periodo de chile comenzó aportando solo se encuentra en américa del ministerio de un cerco el país el gasto total del total del organismo\n",
      "\n",
      "11) a eso del total del mundo saltaría a día sostuvo la puerta a las manos en el ministerio de esa determinación de un duelo clave por qué no se encuentra en que esta problemática y un menor de las\n",
      "\n",
      "12) garanticen el partido que la previa un estrés constante y chile viven una de resultados concretos que en el primero en el ministerio de rodillas y su participación en el terremoto del organismo el gobierno la\n",
      "\n",
      "13) preocupación cómo la salud mental de ellos decidieron suspender su salida definitiva el partido que garanticen el cual alcanzaba los estudiantes de la mantención de educación dirigida a endeudarnos aún más de rree a nivel país el ministerio\n",
      "\n",
      "14) madres padres o simplemente el camino al estudio y los que la confederación de barcelona a la puerta a día a información del organismo por la policía trasandina que afrontar el español\n",
      "\n",
      "15) no se trata de unasur durante todo ese escenario es la carga académica se realizó tras la salud mental de un problema de edad\n",
      "\n",
      "16) pero el exceso de la ex presidenta de descanso sumado a ver el primero en la localía y un desgaste y le cierra la segunda ronda del ministerio de nicolás jarry\n",
      "\n",
      "17) autoridades de un duelo clave por la segunda ronda del certamen hispano se mantuvo el aporte subió a información del certamen hispano se estableció en las edades donde reclaman por el cual alcanzaba los estudiantes de chile que afrontar el\n",
      "\n",
      "18) ecuador en medio de la dirigente agregando que consideran es urgente\n",
      "\n",
      "19) ese escenario es urgente\n",
      "\n",
      "20) paraguay y sembrado número uno del ministerio de la previa un crédito que merma la ex presidenta de formación educacional por hugo chávez lula da\n",
      "\n"
     ]
    }
   ],
   "source": [
    "for i in range(len(results)):\n",
    "    print(f'{i + 1}) {results[i]}\\n')"
   ]
  },
  {
   "cell_type": "markdown",
   "metadata": {},
   "source": [
    "Se podría argumentar que un supuesto fuerte es la utilización de la distribución uniforme para generar las siguientes palabras a partir del contexto, sin embargo, no es tan así dado que como se arman los contextos, una palabra puede estar repetida en el contexto, y eso modifica implícitamente la distribución, por lo que cada palabra no tiene la misma probabilidad de ser escogida, sino que esa probabilidad se ajusta por la cantidad de apariciones"
   ]
  },
  {
   "cell_type": "markdown",
   "metadata": {},
   "source": [
    "Por otro lado, un supuesto grande es que el contexto únicamente mira un paso hacia adelante y no es capaz de mirar más allá. Esto se aprecia en las frases dado que mirando pares de palabras, es coherente, pero ya la frase entera no tanto."
   ]
  },
  {
   "cell_type": "markdown",
   "metadata": {},
   "source": [
    "Lo anterior nos lleva al supuesto más grande, que es que la generación de palabras depende fuertemente de las palabras a las que antecede cada una. Esto no siempre es real, y puede tener mucho que ver por ejemplo con las palabras anteriores, ya sea una o varias, y también con las siguientes, no necesariamente 1."
   ]
  },
  {
   "cell_type": "markdown",
   "metadata": {},
   "source": [
    "En los comentarios anteriores se vislumbran varias mejoras posibles, mejorar los contextos, ampliarlos, modificar el algoritmo para que pondere quizás un paso por algún porcentaje y dos pasos por otro (1 paso me refiero a palabra siguiente, 2 a la subsiguiente, etc). Los contextos podrían tener frases chicas en vez de palabras, se podría ponderar el pasado de la frase, etc."
   ]
  },
  {
   "cell_type": "markdown",
   "metadata": {},
   "source": [
    "Una mejora evidente pero no menor, es la de aumentar el _corpus_, ya que a mayor cantidad mejor va a ser \"el conocimiento\" del lenguaje, esto es, la distribución se va a ir ajustando mejor a como funciona realmente la probabilidad de escoger la siguiente palabra, pero claro, asumiendo que la generación de frases tiene que ver con una palabra y no con más cosas que solo 1 paso al futuro."
   ]
  },
  {
   "cell_type": "code",
   "execution_count": null,
   "metadata": {},
   "outputs": [],
   "source": []
  }
 ],
 "metadata": {
  "kernelspec": {
   "display_name": "Python 3",
   "language": "python",
   "name": "python3"
  },
  "language_info": {
   "codemirror_mode": {
    "name": "ipython",
    "version": 3
   },
   "file_extension": ".py",
   "mimetype": "text/x-python",
   "name": "python",
   "nbconvert_exporter": "python",
   "pygments_lexer": "ipython3",
   "version": "3.7.2"
  }
 },
 "nbformat": 4,
 "nbformat_minor": 2
}
