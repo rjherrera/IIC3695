{
 "cells": [
  {
   "cell_type": "markdown",
   "metadata": {},
   "source": [
    "# Expectation - Maximization"
   ]
  },
  {
   "cell_type": "code",
   "execution_count": 29,
   "metadata": {},
   "outputs": [],
   "source": [
    "import numpy as np\n",
    "import matplotlib.pyplot as plt\n",
    "from scipy.stats import binom"
   ]
  },
  {
   "cell_type": "markdown",
   "metadata": {},
   "source": [
    "### Definición de funciones"
   ]
  },
  {
   "cell_type": "code",
   "execution_count": 30,
   "metadata": {},
   "outputs": [],
   "source": [
    "def experiment(M, size, which_coin_prior=[0.5, 0.5]):\n",
    "    experiments = []\n",
    "    thetas = [0.2, 0.8], [0.4, 0.6]\n",
    "    for i in range(M):\n",
    "        p = thetas[np.random.choice([0, 1], p=which_coin_prior)]\n",
    "        experiments.append(np.random.choice([0, 1], size=size, p=p))\n",
    "    return np.array(experiments)"
   ]
  },
  {
   "cell_type": "code",
   "execution_count": 31,
   "metadata": {},
   "outputs": [],
   "source": [
    "M = 100\n",
    "tosses_ = experiment(M, 10)"
   ]
  },
  {
   "cell_type": "code",
   "execution_count": 32,
   "metadata": {},
   "outputs": [],
   "source": [
    "def expectation_step(tosses, theta_a, theta_b):\n",
    "    p_za = p_zb = 0.5\n",
    "    p_exp_za = binom(10, theta_a).pmf(tosses.sum(axis=1))\n",
    "    p_exp_zb = binom(10, theta_b).pmf(tosses.sum(axis=1))\n",
    "    denom = p_exp_za * p_za + p_exp_zb * p_zb\n",
    "    return (p_exp_za * p_za) / denom, (p_exp_zb * p_zb) / denom"
   ]
  },
  {
   "cell_type": "code",
   "execution_count": 33,
   "metadata": {},
   "outputs": [
    {
     "data": {
      "text/plain": [
       "1.5067553940215975e-09"
      ]
     },
     "execution_count": 33,
     "metadata": {},
     "output_type": "execute_result"
    }
   ],
   "source": [
    "theta_a_init = np.random.uniform(0, 1)\n",
    "theta_b_init = np.random.uniform(0, 1)\n",
    "p_za_exp, p_zb_exp = expectation_step(tosses_, theta_a_init, theta_b_init)\n",
    "p_zb_exp[0]"
   ]
  },
  {
   "cell_type": "code",
   "execution_count": 34,
   "metadata": {},
   "outputs": [],
   "source": [
    "def maximization_step(tosses, p_za_exp, p_zb_exp):\n",
    "    max_theta_a = (p_za_exp * tosses.sum(axis=1)).sum() / (p_za_exp * 10).sum()\n",
    "    max_theta_b = (p_zb_exp * tosses.sum(axis=1)).sum() / (p_zb_exp * 10).sum()\n",
    "    return max_theta_a, max_theta_b"
   ]
  },
  {
   "cell_type": "code",
   "execution_count": 35,
   "metadata": {},
   "outputs": [
    {
     "data": {
      "text/plain": [
       "(0.7524062499587786, 0.31736693768405266)"
      ]
     },
     "execution_count": 35,
     "metadata": {},
     "output_type": "execute_result"
    }
   ],
   "source": [
    "maximization_step(tosses_, p_za_exp, p_zb_exp)"
   ]
  },
  {
   "cell_type": "markdown",
   "metadata": {},
   "source": [
    "## Experimento Completo"
   ]
  },
  {
   "cell_type": "code",
   "execution_count": 46,
   "metadata": {},
   "outputs": [],
   "source": [
    "M = 100\n",
    "\n",
    "tosses = experiment(M, 10)\n",
    "\n",
    "theta_as = [np.random.uniform(0, 1)]\n",
    "theta_bs = [np.random.uniform(0, 1)]\n",
    "likelihoods = [0]\n",
    "epsilon = 0.01\n",
    "\n",
    "steps = 100\n",
    "\n",
    "for i in range(steps):\n",
    "    theta_a = theta_as[-1]\n",
    "    theta_b = theta_bs[-1]\n",
    "    p_za_exp, p_zb_exp = expectation_step(tosses, theta_a, theta_b)\n",
    "    \n",
    "    # falta calcular la likelihood (para ver la convergencia)\n",
    "    # if abs(likelihoods[-1] - likelihoods[-2]) < epsilon:\n",
    "        # break\n",
    "    \n",
    "    theta_a_max, theta_b_max = maximization_step(tosses, p_za_exp, p_zb_exp)\n",
    "    theta_as.append(theta_a_max)\n",
    "    theta_bs.append(theta_b_max)"
   ]
  },
  {
   "cell_type": "code",
   "execution_count": 47,
   "metadata": {},
   "outputs": [
    {
     "data": {
      "image/png": "[encoded data removed]",
      "text/plain": [
       "<Figure size 432x288 with 1 Axes>"
      ]
     },
     "metadata": {
      "needs_background": "light"
     },
     "output_type": "display_data"
    }
   ],
   "source": [
    "plt.title('Evolución de $\\\\theta$')\n",
    "plt.plot(range(len(theta_as)), theta_as)\n",
    "plt.plot(range(len(theta_bs)), theta_bs)\n",
    "plt.legend(['$\\\\theta_a$', '$\\\\theta_b$'])\n",
    "plt.xlabel('Iteración')\n",
    "plt.xlabel('$\\\\theta$')\n",
    "plt.show()"
   ]
  },
  {
   "cell_type": "code",
   "execution_count": 48,
   "metadata": {},
   "outputs": [
    {
     "data": {
      "image/png": "[encoded data removed]",
      "text/plain": [
       "<Figure size 432x288 with 1 Axes>"
      ]
     },
     "metadata": {
      "needs_background": "light"
     },
     "output_type": "display_data"
    }
   ],
   "source": [
    "plt.title('Gráfico 2D de ambos $\\\\theta$s')\n",
    "plt.plot(theta_as, theta_bs)\n",
    "plt.plot(theta_as[0], theta_bs[0], 'ro', label='Initial $(\\\\theta_a, \\\\theta_b)$')\n",
    "plt.plot(theta_as[-1], theta_bs[-1], 'go', label='Final $(\\\\theta_a, \\\\theta_b)$')\n",
    "plt.legend()\n",
    "plt.xlabel('$\\\\theta_a$')\n",
    "plt.ylabel('$\\\\theta_b$')\n",
    "plt.show()"
   ]
  },
  {
   "cell_type": "code",
   "execution_count": null,
   "metadata": {},
   "outputs": [],
   "source": []
  },
  {
   "cell_type": "code",
   "execution_count": null,
   "metadata": {},
   "outputs": [],
   "source": []
  }
 ],
 "metadata": {
  "kernelspec": {
   "display_name": "Python 3",
   "language": "python",
   "name": "python3"
  },
  "language_info": {
   "codemirror_mode": {
    "name": "ipython",
    "version": 3
   },
   "file_extension": ".py",
   "mimetype": "text/x-python",
   "name": "python",
   "nbconvert_exporter": "python",
   "pygments_lexer": "ipython3",
   "version": "3.7.2"
  }
 },
 "nbformat": 4,
 "nbformat_minor": 2
}
